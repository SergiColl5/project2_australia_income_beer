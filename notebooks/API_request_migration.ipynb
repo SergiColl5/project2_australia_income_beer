{
 "cells": [
  {
   "cell_type": "code",
   "execution_count": 90,
   "metadata": {},
   "outputs": [],
   "source": [
    "# I import all the libraries I will use to exctract the data.\n",
    "\n",
    "import pandas as pd\n",
    "from pandas import json_normalize\n",
    "import ast\n",
    "import requests \n",
    "import json\n",
    "import os\n",
    "from dotenv import load_dotenv #conda install -c conda-forge python-dotenv"
   ]
  },
  {
   "cell_type": "code",
   "execution_count": 91,
   "metadata": {},
   "outputs": [],
   "source": [
    "load_dotenv()\n",
    "# defining the url and all tha parameters I need for the request.\n",
    "password = os.getenv('password')\n",
    "user = os.getenv('user')\n",
    "url_migration_request = \"https://data.gov.au/data/en/api/3/action/package_show?id=dba45e7c-81f4-44aa-9d82-1b9a0a121017\"\n"
   ]
  },
  {
   "cell_type": "code",
   "execution_count": 92,
   "metadata": {},
   "outputs": [],
   "source": [
    "\n",
    "def requestAPI (url):\n",
    "    '''This function takes an URL in API format, and returns the response in json format if we get a correct response.'''\n",
    "\n",
    "    # Get the response for the url.\n",
    "    response = requests.get(url)\n",
    "\n",
    "    # Check the code of the response and return accordingly.\n",
    "    if response.status_code == 200:\n",
    "        data = response.json()\n",
    "        return data\n",
    "    else:\n",
    "        return print( f'Request failed, this is the error :   {response}')\n",
    "        "
   ]
  },
  {
   "cell_type": "code",
   "execution_count": 93,
   "metadata": {},
   "outputs": [],
   "source": [
    "# I call the function to request from the url.\n",
    "\n",
    "response_migration = requestAPI(url_migration_request)\n",
    "\n",
    "\n"
   ]
  },
  {
   "cell_type": "code",
   "execution_count": 94,
   "metadata": {},
   "outputs": [
    {
     "data": {
      "text/plain": [
       "dict_keys(['help', 'success', 'result'])"
      ]
     },
     "execution_count": 94,
     "metadata": {},
     "output_type": "execute_result"
    }
   ],
   "source": [
    "# I explore the keys of the dictionary I got, so I can deep dive to the info I need.\n",
    "response_migration.keys()"
   ]
  },
  {
   "cell_type": "code",
   "execution_count": 95,
   "metadata": {},
   "outputs": [
    {
     "data": {
      "text/plain": [
       "dict_keys(['author', 'author_email', 'contact_info', 'contact_point', 'creator_user_id', 'data_model', 'data_state', 'field_of_research', 'geospatial_topic', 'group', 'id', 'isopen', 'jurisdiction', 'language', 'license_id', 'license_title', 'license_url', 'maintainer', 'maintainer_email', 'metadata_created', 'metadata_modified', 'name', 'notes', 'num_resources', 'num_tags', 'organization', 'owner_org', 'private', 'spatial', 'spatial_coverage', 'state', 'temporal_coverage_from', 'temporal_coverage_to', 'title', 'type', 'unpublished', 'update_freq', 'url', 'version', 'groups', 'resources', 'tags', 'relationships_as_subject', 'relationships_as_object'])"
      ]
     },
     "execution_count": 95,
     "metadata": {},
     "output_type": "execute_result"
    }
   ],
   "source": [
    "response_migration['result'].keys()"
   ]
  },
  {
   "cell_type": "code",
   "execution_count": 106,
   "metadata": {},
   "outputs": [
    {
     "data": {
      "text/plain": [
       "{'cache_last_updated': None,\n",
       " 'cache_url': None,\n",
       " 'created': '2023-01-25T00:10:28.141094',\n",
       " 'datastore_active': False,\n",
       " 'datastore_contains_all_records_of_source_file': False,\n",
       " 'description': '',\n",
       " 'format': 'XLSX',\n",
       " 'hash': '',\n",
       " 'id': '1133d1f9-68e7-4d2f-96fb-45104769b7dc',\n",
       " 'last_modified': '2023-01-25',\n",
       " 'metadata_modified': '2023-01-25T00:12:18.183447',\n",
       " 'mimetype': 'application/vnd.openxmlformats-officedocument.spreadsheetml.sheet',\n",
       " 'mimetype_inner': None,\n",
       " 'name': 'Australian Migration Statistics, 2021-22',\n",
       " 'package_id': 'dba45e7c-81f4-44aa-9d82-1b9a0a121017',\n",
       " 'position': 0,\n",
       " 'resource_type': None,\n",
       " 'size': 311351,\n",
       " 'state': 'active',\n",
       " 'url': 'https://data.gov.au/data/dataset/dba45e7c-81f4-44aa-9d82-1b9a0a121017/resource/1133d1f9-68e7-4d2f-96fb-45104769b7dc/download/migration_trends_statistical_package_2021_22.xlsx',\n",
       " 'url_type': 'upload',\n",
       " 'zip_extract': False}"
      ]
     },
     "execution_count": 106,
     "metadata": {},
     "output_type": "execute_result"
    }
   ],
   "source": [
    "migration_resource = response_migration['result']['resources']['last_modified'=='2023-01-25']\n",
    "migration_resource"
   ]
  },
  {
   "cell_type": "code",
   "execution_count": 107,
   "metadata": {},
   "outputs": [
    {
     "name": "stdout",
     "output_type": "stream",
     "text": [
      "https://data.gov.au/data/dataset/dba45e7c-81f4-44aa-9d82-1b9a0a121017/resource/1133d1f9-68e7-4d2f-96fb-45104769b7dc/download/migration_trends_statistical_package_2021_22.xlsx\n"
     ]
    }
   ],
   "source": [
    "# I exctract the URLs for each resource in the previous dictionary\n",
    "\n",
    "resource_url = migration_resource['url']\n",
    "\n",
    "print(resource_url)"
   ]
  },
  {
   "cell_type": "code",
   "execution_count": 117,
   "metadata": {},
   "outputs": [],
   "source": [
    "# I created a function that gets an excel file using an API\n",
    "def requestAPIxlsx (url):\n",
    "    '''This function download an excel file using an API url and saves it into a folder called \"data\" in the same directory.\n",
    "        it creates the folder if it doesn't exists.'''\n",
    "            \n",
    "    response_xlsx = requests.get(url)\n",
    "    if response_xlsx.status_code==200:\n",
    "        if not os.path.exists('../data'):\n",
    "            os.mkdir('../data')\n",
    "        with open('../data/downloaded_excel.xlsx','wb') as f:\n",
    "            f.write(response_xlsx.content)\n",
    "        return print('Your file has been downloaded to you folder \"data\".')\n",
    "    else: \n",
    "        return print('Failed to download file. Response status code:', response_xlsx.status_code)\n",
    "\n",
    "        \n",
    "\n"
   ]
  },
  {
   "cell_type": "code",
   "execution_count": 118,
   "metadata": {},
   "outputs": [
    {
     "name": "stdout",
     "output_type": "stream",
     "text": [
      "Your file has been downloaded to you folder \"data\".\n"
     ]
    }
   ],
   "source": [
    "requestAPIxlsx(resource_url)"
   ]
  },
  {
   "cell_type": "code",
   "execution_count": null,
   "metadata": {},
   "outputs": [],
   "source": []
  }
 ],
 "metadata": {
  "kernelspec": {
   "display_name": "ironhack",
   "language": "python",
   "name": "python3"
  },
  "language_info": {
   "codemirror_mode": {
    "name": "ipython",
    "version": 3
   },
   "file_extension": ".py",
   "mimetype": "text/x-python",
   "name": "python",
   "nbconvert_exporter": "python",
   "pygments_lexer": "ipython3",
   "version": "3.10.9"
  },
  "orig_nbformat": 4,
  "vscode": {
   "interpreter": {
    "hash": "01693d08c76e0fb3e71da81b986e1b86f0c52bf5753630df6eccc1049caafb5a"
   }
  }
 },
 "nbformat": 4,
 "nbformat_minor": 2
}
