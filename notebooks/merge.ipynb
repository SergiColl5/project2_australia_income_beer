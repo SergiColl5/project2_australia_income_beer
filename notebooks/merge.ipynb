{
 "cells": [
  {
   "cell_type": "code",
   "execution_count": 1,
   "metadata": {},
   "outputs": [],
   "source": [
    "import pandas as pd\n",
    "import numpy as np"
   ]
  },
  {
   "cell_type": "code",
   "execution_count": 2,
   "metadata": {},
   "outputs": [],
   "source": [
    "# I import both cleaned xlsx files\n",
    "income = pd.read_excel('../data/income_clean.xlsx')\n",
    "migration= pd.read_excel('../data/migration_clean.xlsx')\n"
   ]
  },
  {
   "cell_type": "code",
   "execution_count": 3,
   "metadata": {},
   "outputs": [],
   "source": [
    "# I merge both files using the columns Year and Activity that I already prepared.\n",
    "all_together = migration.merge(income,how='outer',on=['Year','Activity'])\n",
    "all_together = all_together.drop(columns=['Unnamed: 0_x', 'Unnamed: 0_y'])\n",
    "all_together['Sponsored_visas']=all_together['Sponsored_visas'].apply(lambda x:float(x))"
   ]
  },
  {
   "cell_type": "code",
   "execution_count": 4,
   "metadata": {},
   "outputs": [],
   "source": [
    "all_together.to_excel('../data/all_together.xlsx')\n"
   ]
  },
  {
   "cell_type": "code",
   "execution_count": 5,
   "metadata": {},
   "outputs": [
    {
     "data": {
      "text/html": [
       "<div>\n",
       "<style scoped>\n",
       "    .dataframe tbody tr th:only-of-type {\n",
       "        vertical-align: middle;\n",
       "    }\n",
       "\n",
       "    .dataframe tbody tr th {\n",
       "        vertical-align: top;\n",
       "    }\n",
       "\n",
       "    .dataframe thead th {\n",
       "        text-align: right;\n",
       "    }\n",
       "</style>\n",
       "<table border=\"1\" class=\"dataframe\">\n",
       "  <thead>\n",
       "    <tr style=\"text-align: right;\">\n",
       "      <th></th>\n",
       "      <th>Year</th>\n",
       "      <th>Activity</th>\n",
       "      <th>Sponsored_visas</th>\n",
       "      <th>Median_income</th>\n",
       "    </tr>\n",
       "  </thead>\n",
       "  <tbody>\n",
       "    <tr>\n",
       "      <th>0</th>\n",
       "      <td>2007</td>\n",
       "      <td>accommodation and food services</td>\n",
       "      <td>484.0</td>\n",
       "      <td>NaN</td>\n",
       "    </tr>\n",
       "    <tr>\n",
       "      <th>1</th>\n",
       "      <td>2007</td>\n",
       "      <td>administrative and support services</td>\n",
       "      <td>70.0</td>\n",
       "      <td>NaN</td>\n",
       "    </tr>\n",
       "    <tr>\n",
       "      <th>2</th>\n",
       "      <td>2007</td>\n",
       "      <td>agriculture, forestry and fishing</td>\n",
       "      <td>171.0</td>\n",
       "      <td>NaN</td>\n",
       "    </tr>\n",
       "    <tr>\n",
       "      <th>3</th>\n",
       "      <td>2007</td>\n",
       "      <td>arts and recreation services</td>\n",
       "      <td>505.0</td>\n",
       "      <td>NaN</td>\n",
       "    </tr>\n",
       "    <tr>\n",
       "      <th>4</th>\n",
       "      <td>2007</td>\n",
       "      <td>construction</td>\n",
       "      <td>497.0</td>\n",
       "      <td>NaN</td>\n",
       "    </tr>\n",
       "    <tr>\n",
       "      <th>...</th>\n",
       "      <td>...</td>\n",
       "      <td>...</td>\n",
       "      <td>...</td>\n",
       "      <td>...</td>\n",
       "    </tr>\n",
       "    <tr>\n",
       "      <th>305</th>\n",
       "      <td>2018</td>\n",
       "      <td>finance and insurance services</td>\n",
       "      <td>NaN</td>\n",
       "      <td>41650.0</td>\n",
       "    </tr>\n",
       "    <tr>\n",
       "      <th>306</th>\n",
       "      <td>2019</td>\n",
       "      <td>transport, postal and warehousing</td>\n",
       "      <td>NaN</td>\n",
       "      <td>50140.0</td>\n",
       "    </tr>\n",
       "    <tr>\n",
       "      <th>307</th>\n",
       "      <td>2019</td>\n",
       "      <td>finance and insurance services</td>\n",
       "      <td>NaN</td>\n",
       "      <td>43663.0</td>\n",
       "    </tr>\n",
       "    <tr>\n",
       "      <th>308</th>\n",
       "      <td>2020</td>\n",
       "      <td>transport, postal and warehousing</td>\n",
       "      <td>NaN</td>\n",
       "      <td>51330.0</td>\n",
       "    </tr>\n",
       "    <tr>\n",
       "      <th>309</th>\n",
       "      <td>2020</td>\n",
       "      <td>finance and insurance services</td>\n",
       "      <td>NaN</td>\n",
       "      <td>45900.0</td>\n",
       "    </tr>\n",
       "  </tbody>\n",
       "</table>\n",
       "<p>310 rows × 4 columns</p>\n",
       "</div>"
      ],
      "text/plain": [
       "     Year                             Activity  Sponsored_visas  Median_income\n",
       "0    2007      accommodation and food services            484.0            NaN\n",
       "1    2007  administrative and support services             70.0            NaN\n",
       "2    2007    agriculture, forestry and fishing            171.0            NaN\n",
       "3    2007         arts and recreation services            505.0            NaN\n",
       "4    2007                         construction            497.0            NaN\n",
       "..    ...                                  ...              ...            ...\n",
       "305  2018       finance and insurance services              NaN        41650.0\n",
       "306  2019    transport, postal and warehousing              NaN        50140.0\n",
       "307  2019       finance and insurance services              NaN        43663.0\n",
       "308  2020    transport, postal and warehousing              NaN        51330.0\n",
       "309  2020       finance and insurance services              NaN        45900.0\n",
       "\n",
       "[310 rows x 4 columns]"
      ]
     },
     "execution_count": 5,
     "metadata": {},
     "output_type": "execute_result"
    }
   ],
   "source": [
    "all_together"
   ]
  }
 ],
 "metadata": {
  "kernelspec": {
   "display_name": "ironhack",
   "language": "python",
   "name": "python3"
  },
  "language_info": {
   "codemirror_mode": {
    "name": "ipython",
    "version": 3
   },
   "file_extension": ".py",
   "mimetype": "text/x-python",
   "name": "python",
   "nbconvert_exporter": "python",
   "pygments_lexer": "ipython3",
   "version": "3.10.9"
  },
  "orig_nbformat": 4,
  "vscode": {
   "interpreter": {
    "hash": "01693d08c76e0fb3e71da81b986e1b86f0c52bf5753630df6eccc1049caafb5a"
   }
  }
 },
 "nbformat": 4,
 "nbformat_minor": 2
}
