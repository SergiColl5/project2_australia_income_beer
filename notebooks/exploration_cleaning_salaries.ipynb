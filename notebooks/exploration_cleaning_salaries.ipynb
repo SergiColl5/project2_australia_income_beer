{
 "cells": [
  {
   "cell_type": "code",
   "execution_count": 6,
   "metadata": {},
   "outputs": [],
   "source": [
    "import pandas as pd\n",
    "import numpy as np\n",
    "import my_functions as mf"
   ]
  },
  {
   "cell_type": "code",
   "execution_count": 7,
   "metadata": {},
   "outputs": [],
   "source": [
    "income = pd.read_excel('../data/income_industry.xlsx',sheet_name='Table 2.1')"
   ]
  },
  {
   "cell_type": "code",
   "execution_count": 8,
   "metadata": {},
   "outputs": [],
   "source": [
    "# I clean the data importing functions already created. And also changing specific items, rename columns and set correct indexes.\n",
    "mf.BasicCleanig(income,5,5)\n",
    "income = mf.stackAndDataframe(income)\n",
    "new_columns=['Year','Activity','Median_income']\n",
    "income.columns=new_columns\n",
    "income['Activity']=income['Activity'].apply(lambda x: x.lower())"
   ]
  },
  {
   "cell_type": "code",
   "execution_count": 9,
   "metadata": {},
   "outputs": [
    {
     "name": "stdout",
     "output_type": "stream",
     "text": [
      "<class 'pandas.core.frame.DataFrame'>\n",
      "RangeIndex: 95 entries, 0 to 94\n",
      "Data columns (total 3 columns):\n",
      " #   Column         Non-Null Count  Dtype  \n",
      "---  ------         --------------  -----  \n",
      " 0   Year           95 non-null     int64  \n",
      " 1   Activity       95 non-null     object \n",
      " 2   Median_income  95 non-null     float64\n",
      "dtypes: float64(1), int64(1), object(1)\n",
      "memory usage: 2.4+ KB\n"
     ]
    }
   ],
   "source": [
    "#I export the file to the folder \"data\"\n",
    "income.to_excel('../data/income_clean.xlsx')\n",
    "income.info()"
   ]
  },
  {
   "cell_type": "code",
   "execution_count": null,
   "metadata": {},
   "outputs": [],
   "source": []
  }
 ],
 "metadata": {
  "kernelspec": {
   "display_name": "ironhack",
   "language": "python",
   "name": "python3"
  },
  "language_info": {
   "codemirror_mode": {
    "name": "ipython",
    "version": 3
   },
   "file_extension": ".py",
   "mimetype": "text/x-python",
   "name": "python",
   "nbconvert_exporter": "python",
   "pygments_lexer": "ipython3",
   "version": "3.10.9"
  },
  "orig_nbformat": 4,
  "vscode": {
   "interpreter": {
    "hash": "01693d08c76e0fb3e71da81b986e1b86f0c52bf5753630df6eccc1049caafb5a"
   }
  }
 },
 "nbformat": 4,
 "nbformat_minor": 2
}
