{
 "cells": [
  {
   "cell_type": "code",
   "execution_count": 25,
   "metadata": {},
   "outputs": [],
   "source": [
    "# I import all the libraries I need.\n",
    "import pandas as pd\n",
    "import numpy as np\n",
    "import my_functions as mf\n",
    "\n"
   ]
  },
  {
   "cell_type": "code",
   "execution_count": 26,
   "metadata": {},
   "outputs": [],
   "source": [
    "#Import the file that I am goint to use.\n",
    "\n",
    "migration = pd.read_excel('../data/downloaded_excel.xlsx',sheet_name='1.4')"
   ]
  },
  {
   "cell_type": "code",
   "execution_count": 27,
   "metadata": {},
   "outputs": [],
   "source": [
    "# I clean the data importing functions already created. And also changing specific items, rename columns and set correct indexes.\n",
    "\n",
    "    \n",
    "migration= mf.BasicCleanig(migration,4,4)\n",
    "new_header = list(migration.iloc[0])\n",
    "old_header = list(migration.columns)\n",
    "migration.columns = new_header\n",
    "migration.drop(4,inplace=True)\n",
    "migration.drop(columns='Total',inplace=True)\n",
    "migration = mf.stackAndDataframe(migration)\n",
    "new_columns=['Year','Activity','Sponsored_visas']\n",
    "migration.columns=new_columns\n",
    "migration['Sponsored_visas']=migration['Sponsored_visas'].apply(mf.charactersout)\n",
    "migration['Activity']=migration['Activity'].apply(lambda x: x.lower())\n"
   ]
  },
  {
   "cell_type": "markdown",
   "metadata": {},
   "source": []
  },
  {
   "cell_type": "code",
   "execution_count": 28,
   "metadata": {},
   "outputs": [
    {
     "name": "stdout",
     "output_type": "stream",
     "text": [
      "<class 'pandas.core.frame.DataFrame'>\n",
      "RangeIndex: 300 entries, 0 to 299\n",
      "Data columns (total 3 columns):\n",
      " #   Column           Non-Null Count  Dtype  \n",
      "---  ------           --------------  -----  \n",
      " 0   Year             300 non-null    object \n",
      " 1   Activity         300 non-null    object \n",
      " 2   Sponsored_visas  300 non-null    float64\n",
      "dtypes: float64(1), object(2)\n",
      "memory usage: 7.2+ KB\n"
     ]
    }
   ],
   "source": [
    "migration.info()"
   ]
  },
  {
   "cell_type": "markdown",
   "metadata": {},
   "source": []
  },
  {
   "cell_type": "code",
   "execution_count": 29,
   "metadata": {},
   "outputs": [],
   "source": [
    "#I re-write a column that had a year split by \"-\"\n",
    "migration['Year']= migration['Year'].apply(lambda x : x.split('–')[0])\n"
   ]
  },
  {
   "cell_type": "code",
   "execution_count": 30,
   "metadata": {},
   "outputs": [],
   "source": [
    "#I export the file to the folder \"data\"\n",
    "migration.to_excel('../data/migration_clean.xlsx')\n"
   ]
  },
  {
   "cell_type": "code",
   "execution_count": 31,
   "metadata": {},
   "outputs": [
    {
     "data": {
      "text/html": [
       "<div>\n",
       "<style scoped>\n",
       "    .dataframe tbody tr th:only-of-type {\n",
       "        vertical-align: middle;\n",
       "    }\n",
       "\n",
       "    .dataframe tbody tr th {\n",
       "        vertical-align: top;\n",
       "    }\n",
       "\n",
       "    .dataframe thead th {\n",
       "        text-align: right;\n",
       "    }\n",
       "</style>\n",
       "<table border=\"1\" class=\"dataframe\">\n",
       "  <thead>\n",
       "    <tr style=\"text-align: right;\">\n",
       "      <th></th>\n",
       "      <th>Year</th>\n",
       "      <th>Activity</th>\n",
       "      <th>Sponsored_visas</th>\n",
       "    </tr>\n",
       "  </thead>\n",
       "  <tbody>\n",
       "    <tr>\n",
       "      <th>0</th>\n",
       "      <td>2007</td>\n",
       "      <td>accommodation and food services</td>\n",
       "      <td>484.0</td>\n",
       "    </tr>\n",
       "    <tr>\n",
       "      <th>1</th>\n",
       "      <td>2007</td>\n",
       "      <td>administrative and support services</td>\n",
       "      <td>70.0</td>\n",
       "    </tr>\n",
       "    <tr>\n",
       "      <th>2</th>\n",
       "      <td>2007</td>\n",
       "      <td>agriculture, forestry and fishing</td>\n",
       "      <td>171.0</td>\n",
       "    </tr>\n",
       "    <tr>\n",
       "      <th>3</th>\n",
       "      <td>2007</td>\n",
       "      <td>arts and recreation services</td>\n",
       "      <td>505.0</td>\n",
       "    </tr>\n",
       "    <tr>\n",
       "      <th>4</th>\n",
       "      <td>2007</td>\n",
       "      <td>construction</td>\n",
       "      <td>497.0</td>\n",
       "    </tr>\n",
       "    <tr>\n",
       "      <th>...</th>\n",
       "      <td>...</td>\n",
       "      <td>...</td>\n",
       "      <td>...</td>\n",
       "    </tr>\n",
       "    <tr>\n",
       "      <th>295</th>\n",
       "      <td>2021</td>\n",
       "      <td>rental, hiring and real estate services</td>\n",
       "      <td>51.0</td>\n",
       "    </tr>\n",
       "    <tr>\n",
       "      <th>296</th>\n",
       "      <td>2021</td>\n",
       "      <td>retail trade</td>\n",
       "      <td>406.0</td>\n",
       "    </tr>\n",
       "    <tr>\n",
       "      <th>297</th>\n",
       "      <td>2021</td>\n",
       "      <td>transport postal and warehousing</td>\n",
       "      <td>124.0</td>\n",
       "    </tr>\n",
       "    <tr>\n",
       "      <th>298</th>\n",
       "      <td>2021</td>\n",
       "      <td>wholesale trade</td>\n",
       "      <td>134.0</td>\n",
       "    </tr>\n",
       "    <tr>\n",
       "      <th>299</th>\n",
       "      <td>2021</td>\n",
       "      <td>not specified</td>\n",
       "      <td>5.0</td>\n",
       "    </tr>\n",
       "  </tbody>\n",
       "</table>\n",
       "<p>300 rows × 3 columns</p>\n",
       "</div>"
      ],
      "text/plain": [
       "     Year                                 Activity  Sponsored_visas\n",
       "0    2007          accommodation and food services            484.0\n",
       "1    2007      administrative and support services             70.0\n",
       "2    2007        agriculture, forestry and fishing            171.0\n",
       "3    2007             arts and recreation services            505.0\n",
       "4    2007                             construction            497.0\n",
       "..    ...                                      ...              ...\n",
       "295  2021  rental, hiring and real estate services             51.0\n",
       "296  2021                             retail trade            406.0\n",
       "297  2021         transport postal and warehousing            124.0\n",
       "298  2021                          wholesale trade            134.0\n",
       "299  2021                            not specified              5.0\n",
       "\n",
       "[300 rows x 3 columns]"
      ]
     },
     "execution_count": 31,
     "metadata": {},
     "output_type": "execute_result"
    }
   ],
   "source": [
    "migration"
   ]
  },
  {
   "cell_type": "code",
   "execution_count": null,
   "metadata": {},
   "outputs": [],
   "source": []
  }
 ],
 "metadata": {
  "kernelspec": {
   "display_name": "ironhack",
   "language": "python",
   "name": "python3"
  },
  "language_info": {
   "codemirror_mode": {
    "name": "ipython",
    "version": 3
   },
   "file_extension": ".py",
   "mimetype": "text/x-python",
   "name": "python",
   "nbconvert_exporter": "python",
   "pygments_lexer": "ipython3",
   "version": "3.10.9"
  },
  "orig_nbformat": 4,
  "vscode": {
   "interpreter": {
    "hash": "01693d08c76e0fb3e71da81b986e1b86f0c52bf5753630df6eccc1049caafb5a"
   }
  }
 },
 "nbformat": 4,
 "nbformat_minor": 2
}
