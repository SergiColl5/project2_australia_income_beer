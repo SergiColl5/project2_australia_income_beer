{
 "cells": [
  {
   "cell_type": "code",
   "execution_count": 40,
   "metadata": {},
   "outputs": [],
   "source": [
    "import pandas as pd\n",
    "import numpy as np"
   ]
  },
  {
   "cell_type": "code",
   "execution_count": 41,
   "metadata": {},
   "outputs": [],
   "source": [
    "# I import both cleaned xlsx files\n",
    "income = pd.read_excel('../data/income_clean.xlsx')\n",
    "migration= pd.read_excel('../data/migration_clean.xlsx')\n"
   ]
  },
  {
   "cell_type": "code",
   "execution_count": 46,
   "metadata": {},
   "outputs": [],
   "source": [
    "# I merge both files using the columns Year and Activity that I already prepared.\n",
    "all_together = migration.merge(income,how='outer',on=['Year','Activity'])\n",
    "all_together = all_together.drop(columns=['Unnamed: 0_x', 'Unnamed: 0_y'])"
   ]
  },
  {
   "cell_type": "code",
   "execution_count": 49,
   "metadata": {},
   "outputs": [],
   "source": [
    "all_together.to_excel('../data/all_together.xlsx')\n"
   ]
  },
  {
   "cell_type": "code",
   "execution_count": 50,
   "metadata": {},
   "outputs": [
    {
     "data": {
      "text/html": [
       "<div>\n",
       "<style scoped>\n",
       "    .dataframe tbody tr th:only-of-type {\n",
       "        vertical-align: middle;\n",
       "    }\n",
       "\n",
       "    .dataframe tbody tr th {\n",
       "        vertical-align: top;\n",
       "    }\n",
       "\n",
       "    .dataframe thead th {\n",
       "        text-align: right;\n",
       "    }\n",
       "</style>\n",
       "<table border=\"1\" class=\"dataframe\">\n",
       "  <thead>\n",
       "    <tr style=\"text-align: right;\">\n",
       "      <th></th>\n",
       "      <th>Year</th>\n",
       "      <th>Activity</th>\n",
       "      <th>Sponosored_visas</th>\n",
       "      <th>Median_income</th>\n",
       "    </tr>\n",
       "  </thead>\n",
       "  <tbody>\n",
       "    <tr>\n",
       "      <th>0</th>\n",
       "      <td>2007</td>\n",
       "      <td>Accommodation and Food Services</td>\n",
       "      <td>484</td>\n",
       "      <td>NaN</td>\n",
       "    </tr>\n",
       "    <tr>\n",
       "      <th>1</th>\n",
       "      <td>2007</td>\n",
       "      <td>Administrative and Support Services</td>\n",
       "      <td>70</td>\n",
       "      <td>NaN</td>\n",
       "    </tr>\n",
       "    <tr>\n",
       "      <th>2</th>\n",
       "      <td>2007</td>\n",
       "      <td>Agriculture, Forestry and Fishing</td>\n",
       "      <td>171</td>\n",
       "      <td>NaN</td>\n",
       "    </tr>\n",
       "    <tr>\n",
       "      <th>3</th>\n",
       "      <td>2007</td>\n",
       "      <td>Arts and Recreation Services</td>\n",
       "      <td>505</td>\n",
       "      <td>NaN</td>\n",
       "    </tr>\n",
       "    <tr>\n",
       "      <th>4</th>\n",
       "      <td>2007</td>\n",
       "      <td>Construction</td>\n",
       "      <td>497</td>\n",
       "      <td>NaN</td>\n",
       "    </tr>\n",
       "    <tr>\n",
       "      <th>...</th>\n",
       "      <td>...</td>\n",
       "      <td>...</td>\n",
       "      <td>...</td>\n",
       "      <td>...</td>\n",
       "    </tr>\n",
       "    <tr>\n",
       "      <th>375</th>\n",
       "      <td>2020</td>\n",
       "      <td>Public administration and safety</td>\n",
       "      <td>NaN</td>\n",
       "      <td>65888.0</td>\n",
       "    </tr>\n",
       "    <tr>\n",
       "      <th>376</th>\n",
       "      <td>2020</td>\n",
       "      <td>Education and training</td>\n",
       "      <td>NaN</td>\n",
       "      <td>36286.0</td>\n",
       "    </tr>\n",
       "    <tr>\n",
       "      <th>377</th>\n",
       "      <td>2020</td>\n",
       "      <td>Health care and social assistance</td>\n",
       "      <td>NaN</td>\n",
       "      <td>39049.0</td>\n",
       "    </tr>\n",
       "    <tr>\n",
       "      <th>378</th>\n",
       "      <td>2020</td>\n",
       "      <td>Arts and recreation services</td>\n",
       "      <td>NaN</td>\n",
       "      <td>12326.0</td>\n",
       "    </tr>\n",
       "    <tr>\n",
       "      <th>379</th>\n",
       "      <td>2020</td>\n",
       "      <td>Other services</td>\n",
       "      <td>NaN</td>\n",
       "      <td>25756.0</td>\n",
       "    </tr>\n",
       "  </tbody>\n",
       "</table>\n",
       "<p>380 rows × 4 columns</p>\n",
       "</div>"
      ],
      "text/plain": [
       "     Year                             Activity Sponosored_visas  Median_income\n",
       "0    2007      Accommodation and Food Services              484            NaN\n",
       "1    2007  Administrative and Support Services               70            NaN\n",
       "2    2007    Agriculture, Forestry and Fishing              171            NaN\n",
       "3    2007         Arts and Recreation Services              505            NaN\n",
       "4    2007                         Construction              497            NaN\n",
       "..    ...                                  ...              ...            ...\n",
       "375  2020     Public administration and safety              NaN        65888.0\n",
       "376  2020               Education and training              NaN        36286.0\n",
       "377  2020    Health care and social assistance              NaN        39049.0\n",
       "378  2020         Arts and recreation services              NaN        12326.0\n",
       "379  2020                       Other services              NaN        25756.0\n",
       "\n",
       "[380 rows x 4 columns]"
      ]
     },
     "execution_count": 50,
     "metadata": {},
     "output_type": "execute_result"
    }
   ],
   "source": [
    "all_together"
   ]
  },
  {
   "cell_type": "code",
   "execution_count": null,
   "metadata": {},
   "outputs": [],
   "source": []
  }
 ],
 "metadata": {
  "kernelspec": {
   "display_name": "ironhack",
   "language": "python",
   "name": "python3"
  },
  "language_info": {
   "codemirror_mode": {
    "name": "ipython",
    "version": 3
   },
   "file_extension": ".py",
   "mimetype": "text/x-python",
   "name": "python",
   "nbconvert_exporter": "python",
   "pygments_lexer": "ipython3",
   "version": "3.10.9"
  },
  "orig_nbformat": 4,
  "vscode": {
   "interpreter": {
    "hash": "01693d08c76e0fb3e71da81b986e1b86f0c52bf5753630df6eccc1049caafb5a"
   }
  }
 },
 "nbformat": 4,
 "nbformat_minor": 2
}
