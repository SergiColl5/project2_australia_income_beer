{
 "cells": [
  {
   "cell_type": "code",
   "execution_count": 10,
   "metadata": {},
   "outputs": [],
   "source": [
    "# I import all the libraries I will use to exctract the data.\n",
    "\n",
    "import pandas as pd\n",
    "from pandas import json_normalize\n",
    "import ast\n",
    "import requests \n",
    "import json\n",
    "import os\n",
    "from dotenv import load_dotenv #conda install -c conda-forge python-dotenv\n",
    "import my_functions as mf"
   ]
  },
  {
   "cell_type": "code",
   "execution_count": 11,
   "metadata": {},
   "outputs": [],
   "source": [
    "load_dotenv()\n",
    "# defining the url and all tha parameters I need for the request.\n",
    "password = os.getenv('password')\n",
    "user = os.getenv('user')\n",
    "url_migration_request = \"https://data.gov.au/data/en/api/3/action/package_show?id=dba45e7c-81f4-44aa-9d82-1b9a0a121017\"\n"
   ]
  },
  {
   "cell_type": "code",
   "execution_count": 12,
   "metadata": {},
   "outputs": [],
   "source": [
    "# I call the function to request from the url.\n",
    "\n",
    "response_migration = mf.requestAPI(url_migration_request)"
   ]
  },
  {
   "cell_type": "code",
   "execution_count": 13,
   "metadata": {},
   "outputs": [
    {
     "data": {
      "text/plain": [
       "dict_keys(['help', 'success', 'result'])"
      ]
     },
     "execution_count": 13,
     "metadata": {},
     "output_type": "execute_result"
    }
   ],
   "source": [
    "# I explore the keys of the dictionary I got, so I can deep dive to the info I need.\n",
    "response_migration.keys()"
   ]
  },
  {
   "cell_type": "code",
   "execution_count": 14,
   "metadata": {},
   "outputs": [
    {
     "data": {
      "text/plain": [
       "dict_keys(['author', 'author_email', 'contact_info', 'contact_point', 'creator_user_id', 'data_model', 'data_state', 'field_of_research', 'geospatial_topic', 'group', 'id', 'isopen', 'jurisdiction', 'language', 'license_id', 'license_title', 'license_url', 'maintainer', 'maintainer_email', 'metadata_created', 'metadata_modified', 'name', 'notes', 'num_resources', 'num_tags', 'organization', 'owner_org', 'private', 'spatial', 'spatial_coverage', 'state', 'temporal_coverage_from', 'temporal_coverage_to', 'title', 'type', 'unpublished', 'update_freq', 'url', 'version', 'groups', 'resources', 'tags', 'relationships_as_subject', 'relationships_as_object'])"
      ]
     },
     "execution_count": 14,
     "metadata": {},
     "output_type": "execute_result"
    }
   ],
   "source": [
    "response_migration['result'].keys()"
   ]
  },
  {
   "cell_type": "code",
   "execution_count": 15,
   "metadata": {},
   "outputs": [],
   "source": [
    "migration_resource = response_migration['result']['resources']['last_modified'=='2023-01-25']\n"
   ]
  },
  {
   "cell_type": "code",
   "execution_count": 16,
   "metadata": {},
   "outputs": [
    {
     "name": "stdout",
     "output_type": "stream",
     "text": [
      "https://data.gov.au/data/dataset/dba45e7c-81f4-44aa-9d82-1b9a0a121017/resource/1133d1f9-68e7-4d2f-96fb-45104769b7dc/download/migration_trends_statistical_package_2021_22.xlsx\n"
     ]
    }
   ],
   "source": [
    "# I exctract the URLs for each resource in the previous dictionary\n",
    "\n",
    "resource_url = migration_resource['url']\n",
    "\n",
    "print(resource_url)"
   ]
  },
  {
   "cell_type": "code",
   "execution_count": 17,
   "metadata": {},
   "outputs": [
    {
     "ename": "AttributeError",
     "evalue": "module 'my_functions' has no attribute 'requestAPIxlsx'",
     "output_type": "error",
     "traceback": [
      "\u001b[0;31m---------------------------------------------------------------------------\u001b[0m",
      "\u001b[0;31mAttributeError\u001b[0m                            Traceback (most recent call last)",
      "Cell \u001b[0;32mIn[17], line 2\u001b[0m\n\u001b[1;32m      1\u001b[0m \u001b[39m# I created a function that gets an excel file using an API\u001b[39;00m\n\u001b[0;32m----> 2\u001b[0m mf\u001b[39m.\u001b[39;49mrequestAPIxlsx(resource_url)\n",
      "\u001b[0;31mAttributeError\u001b[0m: module 'my_functions' has no attribute 'requestAPIxlsx'"
     ]
    }
   ],
   "source": [
    "# I created a function that gets an excel file using an API\n",
    "mf.requestAPIxlsx(resource_url)"
   ]
  }
 ],
 "metadata": {
  "kernelspec": {
   "display_name": "ironhack",
   "language": "python",
   "name": "python3"
  },
  "language_info": {
   "codemirror_mode": {
    "name": "ipython",
    "version": 3
   },
   "file_extension": ".py",
   "mimetype": "text/x-python",
   "name": "python",
   "nbconvert_exporter": "python",
   "pygments_lexer": "ipython3",
   "version": "3.10.9"
  },
  "orig_nbformat": 4,
  "vscode": {
   "interpreter": {
    "hash": "01693d08c76e0fb3e71da81b986e1b86f0c52bf5753630df6eccc1049caafb5a"
   }
  }
 },
 "nbformat": 4,
 "nbformat_minor": 2
}
