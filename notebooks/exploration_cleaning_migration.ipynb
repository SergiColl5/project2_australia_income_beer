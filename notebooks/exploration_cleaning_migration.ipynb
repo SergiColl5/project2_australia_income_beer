{
 "cells": [
  {
   "cell_type": "code",
   "execution_count": 6,
   "metadata": {},
   "outputs": [],
   "source": [
    "# I import all the libraries I need.\n",
    "import pandas as pd\n",
    "import numpy as np\n",
    "import my_functions as mf\n"
   ]
  },
  {
   "cell_type": "code",
   "execution_count": 7,
   "metadata": {},
   "outputs": [],
   "source": [
    "#Import the file that I am goint to use.\n",
    "\n",
    "migration = pd.read_excel('../data/downloaded_excel.xlsx',sheet_name='1.4')"
   ]
  },
  {
   "cell_type": "code",
   "execution_count": 8,
   "metadata": {},
   "outputs": [],
   "source": [
    "# I clean the data importing functions already created. And also changing specific items, rename columns and set correct indexes.\n",
    "migration= mf.BasicCleanig(migration,4,4)\n",
    "new_header = list(migration.iloc[0])\n",
    "old_header = list(migration.columns)\n",
    "migration.columns = new_header\n",
    "migration.drop(4,inplace=True)\n",
    "migration.drop(columns='Total',inplace=True)\n",
    "migration = mf.stackAndDataframe(migration)\n",
    "new_columns=['Year','Activity','Sponsored_visas']\n",
    "migration.columns=new_columns"
   ]
  },
  {
   "cell_type": "markdown",
   "metadata": {},
   "source": []
  },
  {
   "cell_type": "code",
   "execution_count": 9,
   "metadata": {},
   "outputs": [],
   "source": [
    "#I re-write a column that had a year split by \"-\"\n",
    "migration['Year']= migration['Year'].apply(lambda x : x.split('–')[0])\n"
   ]
  },
  {
   "cell_type": "code",
   "execution_count": 10,
   "metadata": {},
   "outputs": [],
   "source": [
    "#I export the file to the folder \"data\"\n",
    "migration.to_excel('../data/migration_clean.xlsx')"
   ]
  },
  {
   "cell_type": "markdown",
   "metadata": {},
   "source": []
  }
 ],
 "metadata": {
  "kernelspec": {
   "display_name": "ironhack",
   "language": "python",
   "name": "python3"
  },
  "language_info": {
   "codemirror_mode": {
    "name": "ipython",
    "version": 3
   },
   "file_extension": ".py",
   "mimetype": "text/x-python",
   "name": "python",
   "nbconvert_exporter": "python",
   "pygments_lexer": "ipython3",
   "version": "3.10.9"
  },
  "orig_nbformat": 4,
  "vscode": {
   "interpreter": {
    "hash": "01693d08c76e0fb3e71da81b986e1b86f0c52bf5753630df6eccc1049caafb5a"
   }
  }
 },
 "nbformat": 4,
 "nbformat_minor": 2
}
